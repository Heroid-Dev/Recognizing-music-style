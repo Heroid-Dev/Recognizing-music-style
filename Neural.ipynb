{
 "cells": [
  {
   "cell_type": "markdown",
   "metadata": {},
   "source": [
    "<h3 style=\"text-align:center\">Mohsen Shiri-Ali Chalaki</h3>\n",
    "<h5 style=\"text-align:center\">Recognizing music style</h5>\n",
    "\n",
    "<h5 style=\"text-align:center\">Neural network: Tensorflow</h5>"
   ]
  },
  {
   "cell_type": "markdown",
   "metadata": {},
   "source": [
    "<h3 style=\"direction:rtl\">1- بخش افزودن کتابخانه های موردنیاز</h3>"
   ]
  },
  {
   "cell_type": "code",
   "execution_count": 1,
   "metadata": {},
   "outputs": [],
   "source": [
    "import numpy as np\n",
    "import pandas as pd\n",
    "import tensorflow as tf\n",
    "from sklearn.model_selection import train_test_split\n",
    "from sklearn.preprocessing import StandardScaler, LabelEncoder\n",
    "from sklearn.metrics import accuracy_score"
   ]
  },
  {
   "cell_type": "markdown",
   "metadata": {},
   "source": [
    "<h3 style=\"direction:rtl\">2- بخش فراخوانی داده</h3>"
   ]
  },
  {
   "cell_type": "code",
   "execution_count": 2,
   "metadata": {},
   "outputs": [],
   "source": [
    "my_data = pd.read_csv(\"./MusicDataSet.csv\", delimiter=\",\")\n",
    "my_data = my_data.drop(\"Unnamed: 0\", axis=1)\n"
   ]
  },
  {
   "cell_type": "markdown",
   "metadata": {},
   "source": [
    "<h3 style=\"direction:rtl\">3- بخش جداسازی ویژگی و لیبل</h3>"
   ]
  },
  {
   "cell_type": "code",
   "execution_count": 3,
   "metadata": {},
   "outputs": [],
   "source": [
    "X = my_data.drop([\"File Name\",\"Label\"], axis=1)\n",
    "y = my_data[\"Label\"]"
   ]
  },
  {
   "cell_type": "markdown",
   "metadata": {},
   "source": [
    "<h3 style=\"direction:rtl\">4- بخش نرمال سازی داده ها</h3>"
   ]
  },
  {
   "cell_type": "code",
   "execution_count": 4,
   "metadata": {},
   "outputs": [],
   "source": [
    "scaler = StandardScaler()\n",
    "X_scaled = scaler.fit_transform(X)"
   ]
  },
  {
   "cell_type": "markdown",
   "metadata": {},
   "source": [
    "<h3 style=\"direction:rtl\">5- بخش تبدیل برچسب‌های رشته‌ای به اعداد</h3>"
   ]
  },
  {
   "cell_type": "code",
   "execution_count": 5,
   "metadata": {},
   "outputs": [],
   "source": [
    "label_encoder = LabelEncoder()\n",
    "y_encoded = label_encoder.fit_transform(y)"
   ]
  },
  {
   "cell_type": "markdown",
   "metadata": {},
   "source": [
    "<h3 style=\"direction:rtl\">6- بخش جداسازی داده آموزشی و داده تست</h3>"
   ]
  },
  {
   "cell_type": "code",
   "execution_count": 6,
   "metadata": {},
   "outputs": [],
   "source": [
    "X_train, X_test, y_train, y_test = train_test_split(X_scaled, y_encoded, test_size=0.2, random_state=42)"
   ]
  },
  {
   "cell_type": "markdown",
   "metadata": {},
   "source": [
    "<h3 style=\"direction:rtl\">7- بخش ایجاد مدل شبکه عصبی</h3>"
   ]
  },
  {
   "cell_type": "code",
   "execution_count": 7,
   "metadata": {},
   "outputs": [],
   "source": [
    "model = tf.keras.Sequential([\n",
    "    tf.keras.layers.Dense(64, activation='relu', input_shape=(X_train.shape[1],)),\n",
    "    tf.keras.layers.Dense(32, activation='relu'),\n",
    "    tf.keras.layers.Dense(len(np.unique(y_encoded)), activation='softmax')\n",
    "])"
   ]
  },
  {
   "cell_type": "markdown",
   "metadata": {},
   "source": [
    "<h3 style=\"direction:rtl\">8- بخش کامپایل مدل</h3>"
   ]
  },
  {
   "cell_type": "code",
   "execution_count": 8,
   "metadata": {},
   "outputs": [],
   "source": [
    "model.compile(optimizer='adam', loss='sparse_categorical_crossentropy', metrics=['accuracy'])"
   ]
  },
  {
   "cell_type": "markdown",
   "metadata": {},
   "source": [
    "<h3 style=\"direction:rtl\">9- بخش آموزش مدل با داده‌های آموزشی</h3>"
   ]
  },
  {
   "cell_type": "code",
   "execution_count": 9,
   "metadata": {},
   "outputs": [
    {
     "name": "stdout",
     "output_type": "stream",
     "text": [
      "Epoch 1/50\n",
      "25/25 [==============================] - 1s 2ms/step - loss: 2.1907 - accuracy: 0.2028\n",
      "Epoch 2/50\n",
      "25/25 [==============================] - 0s 2ms/step - loss: 1.9334 - accuracy: 0.3091\n",
      "Epoch 3/50\n",
      "25/25 [==============================] - 0s 1ms/step - loss: 1.7821 - accuracy: 0.3955\n",
      "Epoch 4/50\n",
      "25/25 [==============================] - 0s 2ms/step - loss: 1.6580 - accuracy: 0.4406\n",
      "Epoch 5/50\n",
      "25/25 [==============================] - 0s 2ms/step - loss: 1.5573 - accuracy: 0.4618\n",
      "Epoch 6/50\n",
      "25/25 [==============================] - 0s 2ms/step - loss: 1.4770 - accuracy: 0.4919\n",
      "Epoch 7/50\n",
      "25/25 [==============================] - 0s 1ms/step - loss: 1.4170 - accuracy: 0.5031\n",
      "Epoch 8/50\n",
      "25/25 [==============================] - 0s 2ms/step - loss: 1.3697 - accuracy: 0.5144\n",
      "Epoch 9/50\n",
      "25/25 [==============================] - 0s 2ms/step - loss: 1.3319 - accuracy: 0.5257\n",
      "Epoch 10/50\n",
      "25/25 [==============================] - 0s 2ms/step - loss: 1.2983 - accuracy: 0.5382\n",
      "Epoch 11/50\n",
      "25/25 [==============================] - 0s 2ms/step - loss: 1.2726 - accuracy: 0.5544\n",
      "Epoch 12/50\n",
      "25/25 [==============================] - 0s 2ms/step - loss: 1.2477 - accuracy: 0.5482\n",
      "Epoch 13/50\n",
      "25/25 [==============================] - 0s 2ms/step - loss: 1.2259 - accuracy: 0.5607\n",
      "Epoch 14/50\n",
      "25/25 [==============================] - 0s 2ms/step - loss: 1.2039 - accuracy: 0.5670\n",
      "Epoch 15/50\n",
      "25/25 [==============================] - 0s 1ms/step - loss: 1.1843 - accuracy: 0.5732\n",
      "Epoch 16/50\n",
      "25/25 [==============================] - 0s 2ms/step - loss: 1.1631 - accuracy: 0.5832\n",
      "Epoch 17/50\n",
      "25/25 [==============================] - 0s 2ms/step - loss: 1.1473 - accuracy: 0.5870\n",
      "Epoch 18/50\n",
      "25/25 [==============================] - 0s 2ms/step - loss: 1.1302 - accuracy: 0.6008\n",
      "Epoch 19/50\n",
      "25/25 [==============================] - 0s 2ms/step - loss: 1.1164 - accuracy: 0.5957\n",
      "Epoch 20/50\n",
      "25/25 [==============================] - 0s 2ms/step - loss: 1.1010 - accuracy: 0.6070\n",
      "Epoch 21/50\n",
      "25/25 [==============================] - 0s 2ms/step - loss: 1.0835 - accuracy: 0.6158\n",
      "Epoch 22/50\n",
      "25/25 [==============================] - 0s 2ms/step - loss: 1.0672 - accuracy: 0.6233\n",
      "Epoch 23/50\n",
      "25/25 [==============================] - 0s 2ms/step - loss: 1.0531 - accuracy: 0.6320\n",
      "Epoch 24/50\n",
      "25/25 [==============================] - 0s 2ms/step - loss: 1.0387 - accuracy: 0.6270\n",
      "Epoch 25/50\n",
      "25/25 [==============================] - 0s 2ms/step - loss: 1.0299 - accuracy: 0.6220\n",
      "Epoch 26/50\n",
      "25/25 [==============================] - 0s 2ms/step - loss: 1.0183 - accuracy: 0.6345\n",
      "Epoch 27/50\n",
      "25/25 [==============================] - 0s 2ms/step - loss: 1.0051 - accuracy: 0.6421\n",
      "Epoch 28/50\n",
      "25/25 [==============================] - 0s 2ms/step - loss: 0.9941 - accuracy: 0.6395\n",
      "Epoch 29/50\n",
      "25/25 [==============================] - 0s 2ms/step - loss: 0.9817 - accuracy: 0.6508\n",
      "Epoch 30/50\n",
      "25/25 [==============================] - 0s 2ms/step - loss: 0.9675 - accuracy: 0.6533\n",
      "Epoch 31/50\n",
      "25/25 [==============================] - 0s 2ms/step - loss: 0.9585 - accuracy: 0.6621\n",
      "Epoch 32/50\n",
      "25/25 [==============================] - 0s 1ms/step - loss: 0.9486 - accuracy: 0.6558\n",
      "Epoch 33/50\n",
      "25/25 [==============================] - 0s 2ms/step - loss: 0.9346 - accuracy: 0.6771\n",
      "Epoch 34/50\n",
      "25/25 [==============================] - 0s 2ms/step - loss: 0.9218 - accuracy: 0.6758\n",
      "Epoch 35/50\n",
      "25/25 [==============================] - 0s 2ms/step - loss: 0.9117 - accuracy: 0.6758\n",
      "Epoch 36/50\n",
      "25/25 [==============================] - 0s 1ms/step - loss: 0.9090 - accuracy: 0.6733\n",
      "Epoch 37/50\n",
      "25/25 [==============================] - 0s 2ms/step - loss: 0.8956 - accuracy: 0.6783\n",
      "Epoch 38/50\n",
      "25/25 [==============================] - 0s 1ms/step - loss: 0.8813 - accuracy: 0.6934\n",
      "Epoch 39/50\n",
      "25/25 [==============================] - 0s 2ms/step - loss: 0.8762 - accuracy: 0.6921\n",
      "Epoch 40/50\n",
      "25/25 [==============================] - 0s 1ms/step - loss: 0.8642 - accuracy: 0.7059\n",
      "Epoch 41/50\n",
      "25/25 [==============================] - 0s 1ms/step - loss: 0.8554 - accuracy: 0.6971\n",
      "Epoch 42/50\n",
      "25/25 [==============================] - 0s 2ms/step - loss: 0.8477 - accuracy: 0.7009\n",
      "Epoch 43/50\n",
      "25/25 [==============================] - 0s 2ms/step - loss: 0.8406 - accuracy: 0.7096\n",
      "Epoch 44/50\n",
      "25/25 [==============================] - 0s 1ms/step - loss: 0.8316 - accuracy: 0.7071\n",
      "Epoch 45/50\n",
      "25/25 [==============================] - 0s 1ms/step - loss: 0.8197 - accuracy: 0.7146\n",
      "Epoch 46/50\n",
      "25/25 [==============================] - 0s 953us/step - loss: 0.8136 - accuracy: 0.7222\n",
      "Epoch 47/50\n",
      "25/25 [==============================] - 0s 1ms/step - loss: 0.8054 - accuracy: 0.7134\n",
      "Epoch 48/50\n",
      "25/25 [==============================] - 0s 2ms/step - loss: 0.7963 - accuracy: 0.7284\n",
      "Epoch 49/50\n",
      "25/25 [==============================] - 0s 2ms/step - loss: 0.7867 - accuracy: 0.7247\n",
      "Epoch 50/50\n",
      "25/25 [==============================] - 0s 2ms/step - loss: 0.7819 - accuracy: 0.7272\n"
     ]
    },
    {
     "data": {
      "text/plain": [
       "<keras.src.callbacks.History at 0x14bab828810>"
      ]
     },
     "execution_count": 9,
     "metadata": {},
     "output_type": "execute_result"
    }
   ],
   "source": [
    "# آموزش مدل با داده‌های آموزشی\n",
    "model.fit(X_train, y_train, epochs=50, batch_size=32, verbose=1)"
   ]
  },
  {
   "cell_type": "markdown",
   "metadata": {},
   "source": [
    "<h3 style=\"direction:rtl\">10- بخش ارزیابی مدل با داده‌های تست</h3>"
   ]
  },
  {
   "cell_type": "code",
   "execution_count": 10,
   "metadata": {},
   "outputs": [
    {
     "name": "stdout",
     "output_type": "stream",
     "text": [
      "7/7 [==============================] - 0s 2ms/step\n",
      "دقت مدل شبکه عصبی: 0.585\n"
     ]
    }
   ],
   "source": [
    "y_pred_encoded = np.argmax(model.predict(X_test), axis=-1)\n",
    "accuracy = accuracy_score(y_test, y_pred_encoded)\n",
    "print(\"دقت مدل شبکه عصبی:\", accuracy)"
   ]
  }
 ],
 "metadata": {
  "kernelspec": {
   "display_name": "Python 3",
   "language": "python",
   "name": "python3"
  },
  "language_info": {
   "codemirror_mode": {
    "name": "ipython",
    "version": 3
   },
   "file_extension": ".py",
   "mimetype": "text/x-python",
   "name": "python",
   "nbconvert_exporter": "python",
   "pygments_lexer": "ipython3",
   "version": "3.11.3"
  },
  "orig_nbformat": 4
 },
 "nbformat": 4,
 "nbformat_minor": 2
}
