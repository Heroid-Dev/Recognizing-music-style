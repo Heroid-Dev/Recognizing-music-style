{
 "cells": [
  {
   "cell_type": "markdown",
   "metadata": {},
   "source": [
    "<h3 style=\"text-align:center\">Mohsen Shiri-Ali Chalaki</h3>\n",
    "<h5 style=\"text-align:center\">Recognizing music style</h5>\n",
    "\n",
    "<h5 style=\"text-align:center\">Feature Extraction</h5>"
   ]
  },
  {
   "cell_type": "markdown",
   "metadata": {},
   "source": [
    "<h3 style=\"direction:rtl\">1- افزودن کتابخانه های موردنیاز</h3>"
   ]
  },
  {
   "cell_type": "code",
   "execution_count": 44,
   "metadata": {},
   "outputs": [],
   "source": [
    "import librosa\n",
    "import os\n",
    "import matplotlib.pyplot as plt\n",
    "import numpy as np\n",
    "import pandas as pd"
   ]
  },
  {
   "cell_type": "markdown",
   "metadata": {},
   "source": [
    "   <h3 style=\"direction:rtl\">2- بخش تعریف توابع موردنیاز</h3>"
   ]
  },
  {
   "cell_type": "code",
   "execution_count": null,
   "metadata": {},
   "outputs": [],
   "source": [
    "def extract_tempo(y, sr):\n",
    "    tempo, beat_frames = librosa.beat.beat_track(y=y, sr=sr)  # ضربان موسیقی\n",
    "    return tempo"
   ]
  },
  {
   "cell_type": "code",
   "execution_count": 45,
   "metadata": {},
   "outputs": [],
   "source": [
    "# استخراج ویژگی‌های مرتبط با صدای بیس\n",
    "def extract_bass_features(y, sr):\n",
    "    # تبدیل فوریه سریع (FFT)\n",
    "    fft = np.fft.fft(y)\n",
    "    # دامنه فرکانسی\n",
    "    freq = np.fft.fftfreq(len(y), 1/sr)\n",
    "\n",
    "    # مقدار مطلق طیف فرکانسی\n",
    "    abs_fft = np.abs(fft)\n",
    "\n",
    "    # انتخاب برخی از بینهایت فرکانس‌های FFT برای باس\n",
    "    low_freq_mask = (freq >= 20) & (freq <= 200)  # مثلاً از 20 تا 200 هرتز\n",
    "\n",
    "    # محاسبه قدرت باس\n",
    "    bass_power = np.sum(abs_fft[low_freq_mask])\n",
    "\n",
    "    return bass_power"
   ]
  },
  {
   "cell_type": "code",
   "execution_count": 46,
   "metadata": {},
   "outputs": [],
   "source": [
    "# استخراج ویژگی‌های مرتبط با ترکیبات هارمونیکی\n",
    "def extract_harmonic_features(y, sr):\n",
    "    # استخراج طیف هارمونیکی\n",
    "    harmonic = librosa.effects.harmonic(y)\n",
    "    # استخراج ویژگی‌های مرتبط با ترکیبات هارمونیکی از طیف هارمونیکی\n",
    "    harmonic_features = librosa.feature.chroma_cqt(y=harmonic, sr=sr)\n",
    "    return harmonic_features"
   ]
  },
  {
   "cell_type": "code",
   "execution_count": 47,
   "metadata": {},
   "outputs": [],
   "source": [
    "# استخراج ویژگی‌های مرتبط با پترن‌های زمانی\n",
    "def extract_temporal_features(y, sr):\n",
    "    # استخراج تغییرات شدت صوت در طول زمان\n",
    "    onset_env = librosa.onset.onset_strength(y=y, sr=sr)\n",
    "    # استخراج ویژگی‌های مرتبط با پترن‌های زمانی از تغییرات شدت صوت\n",
    "    temporal_features = librosa.feature.tempogram(onset_envelope=onset_env, sr=sr)\n",
    "    return temporal_features"
   ]
  },
  {
   "cell_type": "code",
   "execution_count": null,
   "metadata": {},
   "outputs": [],
   "source": [
    "def extract_rms(y):\n",
    "    rms = librosa.feature.rms(y=y)\n",
    "    return rms"
   ]
  },
  {
   "cell_type": "markdown",
   "metadata": {},
   "source": [
    "<h3 style=\"direction:rtl\">3- تعریف متغیر های موردنیاز</h3>"
   ]
  },
  {
   "cell_type": "code",
   "execution_count": 48,
   "metadata": {},
   "outputs": [],
   "source": [
    "id=[]\n",
    "df=pd.DataFrame()\n",
    "\n",
    "file_Names=[]\n",
    "tempo_Numbers=[]\n",
    "rms_Max=[]\n",
    "rms_Min=[]\n",
    "rms_Mean=[]\n",
    "rms_Median=[]\n",
    "spectrogram_Max=[]\n",
    "#spectrogram_Min=[]\n",
    "spectrogram_Mean=[]\n",
    "mfccs_Max=[]\n",
    "mfccs_Min=[]\n",
    "mfccs_Mean=[]\n",
    "#chromagram_Max=[]\n",
    "chromagram_Min=[]\n",
    "chromagram_Mean=[]\n",
    "countStrongNote=[]\n",
    "countWeakNote=[]\n",
    "boss_power=[]\n",
    "mean_timepattern=[]\n",
    "label=[]"
   ]
  },
  {
   "cell_type": "markdown",
   "metadata": {},
   "source": [
    "<h3 style=\"direction:rtl\">3- بخش استخراج ویژگی از فایل های موسیقی</h3>"
   ]
  },
  {
   "cell_type": "code",
   "execution_count": 49,
   "metadata": {},
   "outputs": [],
   "source": [
    "\n",
    "for dirname, _, filenames in os.walk('./trainMusic'):\n",
    "    for filename in filenames:\n",
    "\n",
    "        file_path = os.path.join(dirname, filename)\n",
    "        id.append(file_path.replace(\"./trainMusic\\\\\",\"\"))\n",
    "        y, sr = librosa.load(file_path)\n",
    "        \n",
    "        \n",
    "        tempo=extract_tempo(y=y,sr=sr)\n",
    "        rms = extract_rms(y=y)\n",
    "        spectrogram = librosa.feature.melspectrogram(y=y, sr=sr)\n",
    "        mfccs = librosa.feature.mfcc(y=y, sr=sr)\n",
    "        chromagram = librosa.feature.chroma_stft(y=y, sr=sr)\n",
    "        \n",
    "\n",
    "        tempo_Numbers.append(tempo)\n",
    "        \n",
    "        rms_Max.append(np.max(rms))\n",
    "        rms_Min.append(np.min(rms))\n",
    "        rms_Mean.append(np.mean(rms))\n",
    "        rms_Median.append(np.median(rms))\n",
    "\n",
    "        spectrogram_Max.append(np.max(spectrogram))\n",
    "        spectrogram_Mean.append(np.mean(spectrogram))\n",
    "        #spectrogram_Min.append(np.min(spectrogram))\n",
    "    \n",
    "\n",
    "        mfccs_Max.append(np.max(mfccs))\n",
    "        mfccs_Min.append(np.min(mfccs))\n",
    "        mfccs_Mean.append(np.mean(mfccs))\n",
    "    \n",
    "        chromagram_Min.append(np.min(chromagram))\n",
    "        chromagram_Mean.append(np.mean(chromagram))\n",
    "        #chromagram_Max.append(np.max(chromagram))\n",
    "\n",
    "        harmonic=extract_harmonic_features(y, sr)\n",
    "        countStrongNote.append(np.sum((harmonic >= 0.5) & (harmonic <= 0.7)))\n",
    "        countWeakNote.append(np.sum((harmonic >= 0.2) & (harmonic <= 0.3)))\n",
    " \n",
    "        boss_power.append(int(np.round(extract_bass_features(y, sr))))\n",
    "\n",
    "        mean_timepattern.append(np.mean(extract_temporal_features(y, sr)))\n",
    "        "
   ]
  },
  {
   "cell_type": "markdown",
   "metadata": {},
   "source": [
    "<h3 style=\"direction:rtl\">3- بخش قراردادن ویژگی ها در DataFrame</h3>"
   ]
  },
  {
   "cell_type": "code",
   "execution_count": 50,
   "metadata": {},
   "outputs": [],
   "source": [
    "id_name=[]\n",
    "for path in id:\n",
    "    id_name.append(path.split(\"\\\\\")[-1])\n",
    "df['File Name']=id_name\n",
    "df['Tempo']=tempo_Numbers\n",
    "df['RMS max']=rms_Max\n",
    "df['RMS min']=rms_Min\n",
    "df['RMS mean']=rms_Mean\n",
    "df['RMS median']=rms_Median\n",
    "df['Spectrogram max']=spectrogram_Max\n",
    "#df['Spectrogram min']=spectrogram_Min\n",
    "df['Spectrogram mean']=spectrogram_Mean\n",
    "df['mfccs max']=mfccs_Max\n",
    "df['mfccs min']=mfccs_Min\n",
    "df['mfccs mean']=mfccs_Mean\n",
    "#df['chromagram max']=chromagram_Max\n",
    "df['chromagram min']=chromagram_Min\n",
    "df['chromagram mean']=chromagram_Mean\n",
    "df[\"NumberStrongNote0.5&0.7\"]=countStrongNote\n",
    "df['NumberWeakNote0.2&0.3']=countWeakNote\n",
    "df['Boss Power']=boss_power\n",
    "df['Mean TimePattern']=mean_timepattern\n",
    "\n",
    "labels=[]\n",
    "for path in df[\"File Name\"]:\n",
    "   labels.append(path.split(\".\")[0])\n",
    "df['Label']=labels"
   ]
  },
  {
   "cell_type": "markdown",
   "metadata": {},
   "source": [
    "<h3 style=\"direction:rtl\">3- بخش ذخیره ویژگی ها در فایل CSV</h3>"
   ]
  },
  {
   "cell_type": "code",
   "execution_count": 52,
   "metadata": {},
   "outputs": [],
   "source": [
    "df.to_csv('./MusicDataSet.csv')"
   ]
  }
 ],
 "metadata": {
  "kernelspec": {
   "display_name": "Python 3",
   "language": "python",
   "name": "python3"
  },
  "language_info": {
   "codemirror_mode": {
    "name": "ipython",
    "version": 3
   },
   "file_extension": ".py",
   "mimetype": "text/x-python",
   "name": "python",
   "nbconvert_exporter": "python",
   "pygments_lexer": "ipython3",
   "version": "3.11.3"
  },
  "orig_nbformat": 4
 },
 "nbformat": 4,
 "nbformat_minor": 2
}
